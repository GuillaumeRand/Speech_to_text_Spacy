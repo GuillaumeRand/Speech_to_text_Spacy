{
 "cells": [
  {
   "cell_type": "code",
   "execution_count": 1,
   "metadata": {},
   "outputs": [
    {
     "ename": "IndexError",
     "evalue": "list index out of range",
     "output_type": "error",
     "traceback": [
      "\u001b[0;31m---------------------------------------------------------------------------\u001b[0m",
      "\u001b[0;31mIndexError\u001b[0m                                Traceback (most recent call last)",
      "Cell \u001b[0;32mIn [1], line 15\u001b[0m\n\u001b[1;32m     12\u001b[0m ville \u001b[39m=\u001b[39m variable[\u001b[39m1\u001b[39m]\u001b[39m.\u001b[39msplit(\u001b[39m\"\u001b[39m\u001b[39m - \u001b[39m\u001b[39m\"\u001b[39m)\n\u001b[1;32m     14\u001b[0m tableauVilleDepart \u001b[39m=\u001b[39m ville[\u001b[39m0\u001b[39m]\u001b[39m.\u001b[39msplit(\u001b[39m\"\u001b[39m\u001b[39m \u001b[39m\u001b[39m\"\u001b[39m)\n\u001b[0;32m---> 15\u001b[0m tableauVilleArriver \u001b[39m=\u001b[39m ville[\u001b[39m1\u001b[39;49m]\u001b[39m.\u001b[39msplit(\u001b[39m\"\u001b[39m\u001b[39m \u001b[39m\u001b[39m\"\u001b[39m)\n\u001b[1;32m     16\u001b[0m \u001b[39mif\u001b[39;00m(tableauVilleDepart[\u001b[39m2\u001b[39m]  \u001b[39mand\u001b[39;00m tableauVilleArriver[\u001b[39m2\u001b[39m] \u001b[39mand\u001b[39;00m \u001b[39mlen\u001b[39m(tableauVilleDepart[\u001b[39m2\u001b[39m]) \u001b[39m>\u001b[39m \u001b[39m4\u001b[39m \u001b[39mand\u001b[39;00m \u001b[39mlen\u001b[39m(tableauVilleArriver[\u001b[39m2\u001b[39m]) \u001b[39m>\u001b[39m \u001b[39m4\u001b[39m ):\n\u001b[1;32m     17\u001b[0m     \u001b[39mprint\u001b[39m(\u001b[39m\"\u001b[39m\u001b[39mJe souhaite aller à \u001b[39m\u001b[39m\"\u001b[39m \u001b[39m+\u001b[39m tableauVilleArriver[\u001b[39m2\u001b[39m]\u001b[39m.\u001b[39mreplace(\u001b[39m'\u001b[39m\u001b[39mÃ©\u001b[39m\u001b[39m'\u001b[39m,\u001b[39m'\u001b[39m\u001b[39mé\u001b[39m\u001b[39m'\u001b[39m)\u001b[39m.\u001b[39mreplace(\u001b[39m'\u001b[39m\u001b[39mÃ¨\u001b[39m\u001b[39m'\u001b[39m,\u001b[39m'\u001b[39m\u001b[39mè\u001b[39m\u001b[39m'\u001b[39m) \u001b[39m+\u001b[39m \u001b[39m'\u001b[39m\u001b[39men partant de\u001b[39m\u001b[39m'\u001b[39m \u001b[39m+\u001b[39m tableauVilleDepart[\u001b[39m2\u001b[39m]\u001b[39m.\u001b[39mreplace(\u001b[39m'\u001b[39m\u001b[39mÃ©\u001b[39m\u001b[39m'\u001b[39m,\u001b[39m'\u001b[39m\u001b[39mé\u001b[39m\u001b[39m'\u001b[39m)\u001b[39m.\u001b[39mreplace(\u001b[39m'\u001b[39m\u001b[39mÃ¨\u001b[39m\u001b[39m'\u001b[39m,\u001b[39m'\u001b[39m\u001b[39mè\u001b[39m\u001b[39m'\u001b[39m)\u001b[39m+\u001b[39m\u001b[39m\"\u001b[39m\u001b[39m,\u001b[39m\u001b[39m\"\u001b[39m\u001b[39m+\u001b[39mtableauVilleDepart[\u001b[39m2\u001b[39m]\u001b[39m.\u001b[39mreplace(\u001b[39m'\u001b[39m\u001b[39mÃ©\u001b[39m\u001b[39m'\u001b[39m,\u001b[39m'\u001b[39m\u001b[39mé\u001b[39m\u001b[39m'\u001b[39m)\u001b[39m.\u001b[39mreplace(\u001b[39m'\u001b[39m\u001b[39mÃ¨\u001b[39m\u001b[39m'\u001b[39m,\u001b[39m'\u001b[39m\u001b[39mè\u001b[39m\u001b[39m'\u001b[39m)\u001b[39m+\u001b[39m\u001b[39m\"\u001b[39m\u001b[39m,\u001b[39m\u001b[39m\"\u001b[39m\u001b[39m+\u001b[39mtableauVilleArriver[\u001b[39m2\u001b[39m]\u001b[39m.\u001b[39mreplace(\u001b[39m'\u001b[39m\u001b[39mÃ©\u001b[39m\u001b[39m'\u001b[39m,\u001b[39m'\u001b[39m\u001b[39mé\u001b[39m\u001b[39m'\u001b[39m)\u001b[39m.\u001b[39mreplace(\u001b[39m'\u001b[39m\u001b[39mÃ¨\u001b[39m\u001b[39m'\u001b[39m,\u001b[39m'\u001b[39m\u001b[39mè\u001b[39m\u001b[39m'\u001b[39m)\u001b[39m+\u001b[39m\u001b[39m\"\u001b[39m\u001b[39m,\u001b[39m\u001b[39m\"\u001b[39m\u001b[39m+\u001b[39m\u001b[39m\"\u001b[39m\u001b[39mfalse\u001b[39m\u001b[39m\"\u001b[39m )\n",
      "\u001b[0;31mIndexError\u001b[0m: list index out of range"
     ]
    }
   ],
   "source": [
    "import csv\n",
    "\n",
    "\n",
    "# ouverture en lecture du fichier csv\n",
    "with open('../timetables.csv', newline='') as fichier:\n",
    "    # on crée un objet reader\n",
    "    lecture = csv.reader(fichier, delimiter=',')\n",
    "\n",
    "    # lecture et affichage des lignes:\n",
    "    for ligne in lecture:\n",
    "        variable = ligne[0].split('\\t')\n",
    "        ville = variable[1].split(\" - \")\n",
    "\n",
    "        tableauVilleDepart = ville[0].split(\" \")\n",
    "        tableauVilleArriver = ville[1].split(\" \")\n",
    "        if(tableauVilleDepart[2]  and tableauVilleArriver[2] and len(tableauVilleDepart[2]) > 4 and len(tableauVilleArriver[2]) > 4 ):\n",
    "            print(\"Je souhaite aller à \" + tableauVilleArriver[2].replace('Ã©','é').replace('Ã¨','è') + 'en partant de' + tableauVilleDepart[2].replace('Ã©','é').replace('Ã¨','è')+\",\"+tableauVilleDepart[2].replace('Ã©','é').replace('Ã¨','è')+\",\"+tableauVilleArriver[2].replace('Ã©','é').replace('Ã¨','è')+\",\"+\"false\" )\n",
    "\n",
    "            "
   ]
  }
 ],
 "metadata": {
  "kernelspec": {
   "display_name": "Python 3.9.6 64-bit",
   "language": "python",
   "name": "python3"
  },
  "language_info": {
   "codemirror_mode": {
    "name": "ipython",
    "version": 3
   },
   "file_extension": ".py",
   "mimetype": "text/x-python",
   "name": "python",
   "nbconvert_exporter": "python",
   "pygments_lexer": "ipython3",
   "version": "3.9.6"
  },
  "orig_nbformat": 4,
  "vscode": {
   "interpreter": {
    "hash": "31f2aee4e71d21fbe5cf8b01ff0e069b9275f58929596ceb00d14d90e3e16cd6"
   }
  }
 },
 "nbformat": 4,
 "nbformat_minor": 2
}
