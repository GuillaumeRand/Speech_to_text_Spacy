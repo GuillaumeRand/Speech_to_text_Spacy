{
 "cells": [
  {
   "cell_type": "code",
   "execution_count": 42,
   "metadata": {},
   "outputs": [
    {
     "name": "stdout",
     "output_type": "stream",
     "text": [
      "\n",
      " ________                                       __                         \n",
      "|        \\                                     |  \\                        \n",
      " \\$$$$$$$$______   ______  __     __   ______  | $$                        \n",
      "   | $$  /      \\ |      \\|  \\   /  \\ /      \\ | $$                        \n",
      "   | $$ |  $$$$$$\\ \\$$$$$$\\$$\\ /  $$|  $$$$$$\\| $$                        \n",
      "   | $$ | $$   \\$$/      $$ \\$$\\  $$ | $$    $$| $$                        \n",
      "   | $$ | $$     |  $$$$$$$  \\$$ $$  | $$$$$$$$| $$                        \n",
      "   | $$ | $$      \\$$    $$   \\$$$    \\$$     \\| $$                        \n",
      "    \\$$  \\$$       \\$$$$$$$    \\$      \\$$$$$$$ \\$$                        \n",
      "  ______                   __                                              \n",
      " /      \\                 |  \\                                             \n",
      "|  $$$$$$\\  ______    ____| $$  ______    ______                           \n",
      "| $$  | $$ /      \\  /      $$ /      \\  /      \\                          \n",
      "| $$  | $$|  $$$$$$\\|  $$$$$$$|  $$$$$$\\|  $$$$$$\\                         \n",
      "| $$  | $$| $$   \\$$| $$  | $$| $$    $$| $$   \\$$                         \n",
      "| $$__/ $$| $$      | $$__| $$| $$$$$$$$| $$                               \n",
      " \\$$    $$| $$       \\$$    $$ \\$$     \\| $$                               \n",
      "  \\$$$$$$  \\$$        \\$$$$$$$  \\$$$$$$$ \\$$                               \n",
      " _______                                 __                                \n",
      "|       \\                               |  \\                               \n",
      "| $$$$$$$\\  ______    _______   ______  | $$ __     __   ______    ______  \n",
      "| $$__| $$ /      \\  /       \\ /      \\ | $$|  \\   /  \\ /      \\  /      \\ \n",
      "| $$    $$|  $$$$$$\\|  $$$$$$$|  $$$$$$\\| $$ \\$$\\ /  $$|  $$$$$$\\|  $$$$$$\n",
      "| $$$$$$$\\| $$    $$ \\$$    \\ | $$  | $$| $$  \\$$\\  $$ | $$    $$| $$   \\$$\n",
      "| $$  | $$| $$$$$$$$ _\\$$$$$$\\| $$__/ $$| $$   \\$$ $$  | $$$$$$$$| $$      \n",
      "| $$  | $$ \\$$     \\|       $$ \\$$    $$| $$    \\$$$    \\$$     \\| $$      \n",
      " \\$$   \\$$  \\$$$$$$$ \\$$$$$$$   \\$$$$$$  \\$$     \\$      \\$$$$$$$ \\$$      \n",
      "                                                                           \n",
      "                                                                           \n",
      "                                                                           \n",
      "\n"
     ]
    }
   ],
   "source": [
    "import pandas as pd\n",
    "import spacy\n",
    "import sys\n",
    "# sys.path.append('../dijkstra')\n",
    "# import dijkstra\n",
    "\n",
    "nlp = spacy.load(r\"../spacy/output/model-best\")\n",
    "\n",
    "print(\"\"\"\n",
    " ________                                       __                         \n",
    "|        \\                                     |  \\                        \n",
    " \\$$$$$$$$______   ______  __     __   ______  | $$                        \n",
    "   | $$  /      \\ |      \\|  \\   /  \\ /      \\ | $$                        \n",
    "   | $$ |  $$$$$$\\ \\$$$$$$\\\\$$\\ /  $$|  $$$$$$\\| $$                        \n",
    "   | $$ | $$   \\$$/      $$ \\$$\\  $$ | $$    $$| $$                        \n",
    "   | $$ | $$     |  $$$$$$$  \\$$ $$  | $$$$$$$$| $$                        \n",
    "   | $$ | $$      \\$$    $$   \\$$$    \\$$     \\| $$                        \n",
    "    \\$$  \\$$       \\$$$$$$$    \\$      \\$$$$$$$ \\$$                        \n",
    "  ______                   __                                              \n",
    " /      \\                 |  \\                                             \n",
    "|  $$$$$$\\  ______    ____| $$  ______    ______                           \n",
    "| $$  | $$ /      \\  /      $$ /      \\  /      \\                          \n",
    "| $$  | $$|  $$$$$$\\|  $$$$$$$|  $$$$$$\\|  $$$$$$\\                         \n",
    "| $$  | $$| $$   \\$$| $$  | $$| $$    $$| $$   \\$$                         \n",
    "| $$__/ $$| $$      | $$__| $$| $$$$$$$$| $$                               \n",
    " \\$$    $$| $$       \\$$    $$ \\$$     \\| $$                               \n",
    "  \\$$$$$$  \\$$        \\$$$$$$$  \\$$$$$$$ \\$$                               \n",
    " _______                                 __                                \n",
    "|       \\                               |  \\                               \n",
    "| $$$$$$$\\  ______    _______   ______  | $$ __     __   ______    ______  \n",
    "| $$__| $$ /      \\  /       \\ /      \\ | $$|  \\   /  \\ /      \\  /      \\ \n",
    "| $$    $$|  $$$$$$\\|  $$$$$$$|  $$$$$$\\| $$ \\$$\\ /  $$|  $$$$$$\\|  $$$$$$\n",
    "| $$$$$$$\\| $$    $$ \\$$    \\ | $$  | $$| $$  \\$$\\  $$ | $$    $$| $$   \\$$\n",
    "| $$  | $$| $$$$$$$$ _\\$$$$$$\\| $$__/ $$| $$   \\$$ $$  | $$$$$$$$| $$      \n",
    "| $$  | $$ \\$$     \\|       $$ \\$$    $$| $$    \\$$$    \\$$     \\| $$      \n",
    " \\$$   \\$$  \\$$$$$$$ \\$$$$$$$   \\$$$$$$  \\$$     \\$      \\$$$$$$$ \\$$      \n",
    "                                                                           \n",
    "                                                                           \n",
    "                                                                           \n",
    "\"\"\")\n"
   ]
  },
  {
   "cell_type": "code",
   "execution_count": 45,
   "metadata": {},
   "outputs": [
    {
     "name": "stdout",
     "output_type": "stream",
     "text": [
      "Phrase à analyser :\n"
     ]
    }
   ],
   "source": [
    "print(\"Phrase à analyser :\")\n",
    "# phrase = input()\n",
    "phrase = \"Je suis aller à Epitech à Toulouse. Je veux rentrer à Epitech Montpellier. Puis-je avoir un billet?\""
   ]
  },
  {
   "cell_type": "code",
   "execution_count": 47,
   "metadata": {},
   "outputs": [
    {
     "data": {
      "text/html": [
       "<span class=\"tex2jax_ignore\"><div class=\"entities\" style=\"line-height: 2.5; direction: ltr\">Je suis aller à \n",
       "<mark class=\"entity\" style=\"background: #ddd; padding: 0.45em 0.6em; margin: 0 0.25em; line-height: 1; border-radius: 0.35em;\">\n",
       "    Epitech\n",
       "    <span style=\"font-size: 0.8em; font-weight: bold; line-height: 1; border-radius: 0.35em; vertical-align: middle; margin-left: 0.5rem\">DESTINATION</span>\n",
       "</mark>\n",
       " à \n",
       "<mark class=\"entity\" style=\"background: #ddd; padding: 0.45em 0.6em; margin: 0 0.25em; line-height: 1; border-radius: 0.35em;\">\n",
       "    Toulouse\n",
       "    <span style=\"font-size: 0.8em; font-weight: bold; line-height: 1; border-radius: 0.35em; vertical-align: middle; margin-left: 0.5rem\">DESTINATION</span>\n",
       "</mark>\n",
       ". Je veux rentrer à \n",
       "<mark class=\"entity\" style=\"background: #ddd; padding: 0.45em 0.6em; margin: 0 0.25em; line-height: 1; border-radius: 0.35em;\">\n",
       "    Epitech Montpellier\n",
       "    <span style=\"font-size: 0.8em; font-weight: bold; line-height: 1; border-radius: 0.35em; vertical-align: middle; margin-left: 0.5rem\">DESTINATION</span>\n",
       "</mark>\n",
       ". Puis-je avoir un billet?</div></span>"
      ],
      "text/plain": [
       "<IPython.core.display.HTML object>"
      ]
     },
     "metadata": {},
     "output_type": "display_data"
    }
   ],
   "source": [
    "\n",
    "doc = nlp(phrase) # input sample text\n",
    "\n",
    "# destination = str(list(filter(lambda ent: ent.label_ == 'DESTINATION', doc.ents))[0])\n",
    "# depart = str(list(filter(lambda ent: ent.label_ == 'DEPART', doc.ents))[0])\n",
    "spacy.displacy.render(doc, style=\"ent\", jupyter=True)\n",
    "# print(\"Destination : \" + destination)\n",
    "# print(\"Départ : \" + depart)\n",
    "\n",
    "# init_graph = {}\n",
    "# for node in nodes:\n",
    "#     init_graph[node] = {}\n",
    "\n",
    "# df = pd.read_csv('clearData.csv')\n",
    "# for index, row in df.iterrows():\n",
    "#     init_graph[row['depart']][row['destination']] = row['duree']\n",
    "\n",
    "# graph = Graph(nodes, init_graph)"
   ]
  }
 ],
 "metadata": {
  "kernelspec": {
   "display_name": "back-P-6HUKwv",
   "language": "python",
   "name": "python3"
  },
  "language_info": {
   "codemirror_mode": {
    "name": "ipython",
    "version": 3
   },
   "file_extension": ".py",
   "mimetype": "text/x-python",
   "name": "python",
   "nbconvert_exporter": "python",
   "pygments_lexer": "ipython3",
   "version": "3.9.6 (default, Oct 18 2022, 12:41:40) \n[Clang 14.0.0 (clang-1400.0.29.202)]"
  },
  "orig_nbformat": 4,
  "vscode": {
   "interpreter": {
    "hash": "b4c47255976128ec6dc18c5a6c6a38d19b3ecbc446285b5c4242f45c1511372b"
   }
  }
 },
 "nbformat": 4,
 "nbformat_minor": 2
}
